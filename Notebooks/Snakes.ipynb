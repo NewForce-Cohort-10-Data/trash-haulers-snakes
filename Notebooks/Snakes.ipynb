{
 "cells": [
  {
   "cell_type": "markdown",
   "id": "15cb0974-34b0-4a23-8c5e-70c2569f5187",
   "metadata": {},
   "source": [
    "Snakes"
   ]
  },
  {
   "cell_type": "code",
   "execution_count": null,
   "id": "5c8c636a-9e1c-4780-adf7-8184822a3862",
   "metadata": {},
   "outputs": [],
   "source": []
  }
 ],
 "metadata": {
  "kernelspec": {
   "display_name": "Python 3 (ipykernel)",
   "language": "python",
   "name": "python3"
  },
  "language_info": {
   "codemirror_mode": {
    "name": "ipython",
    "version": 3
   },
   "file_extension": ".py",
   "mimetype": "text/x-python",
   "name": "python",
   "nbconvert_exporter": "python",
   "pygments_lexer": "ipython3",
   "version": "3.12.7"
  }
 },
 "nbformat": 4,
 "nbformat_minor": 5
}
